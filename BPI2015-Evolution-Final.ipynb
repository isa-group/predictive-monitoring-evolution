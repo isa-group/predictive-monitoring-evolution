{
 "cells": [
  {
   "cell_type": "code",
   "execution_count": 1,
   "metadata": {
    "scrolled": true
   },
   "outputs": [
    {
     "name": "stdout",
     "output_type": "stream",
     "text": [
      "(52217, 29)\n",
      "Index(['case', 'event', 'startTime', 'completeTime', 'termName', 'startDate',\n",
      "       'caseProcedure', 'Responsible_actor', 'caseStatus', 'Includes_subCases',\n",
      "       'endDatePlanned', 'endDate', 'parts', 'requestComplete', 'last_phase',\n",
      "       'landRegisterID', 'SUMleges', 'case_type', 'IDofConceptCase',\n",
      "       'org:resource', 'activityNameEN', 'action_code', 'activityNameNL',\n",
      "       'planned', 'dateStop', 'dateFinished', 'question', 'dueDate',\n",
      "       'monitoringResource'],\n",
      "      dtype='object')\n",
      "(44354, 28)\n",
      "Index(['case', 'event', 'startTime', 'completeTime', 'termName', 'startDate',\n",
      "       'caseProcedure', 'Responsible_actor', 'caseStatus', 'Includes_subCases',\n",
      "       'requestComplete', 'endDate', 'parts', 'last_phase', 'landRegisterID',\n",
      "       'SUMleges', 'case_type', 'IDofConceptCase', 'activityNameEN',\n",
      "       'org:resource', 'action_code', 'activityNameNL', 'planned', 'dateStop',\n",
      "       'dateFinished', 'question', 'dueDate', 'monitoringResource'],\n",
      "      dtype='object')\n",
      "(59681, 29)\n",
      "Index(['case', 'event', 'startTime', 'completeTime', 'startDate', 'termName',\n",
      "       'caseProcedure', 'Responsible_actor', 'caseStatus', 'Includes_subCases',\n",
      "       'endDatePlanned', 'requestComplete', 'endDate', 'parts', 'last_phase',\n",
      "       'landRegisterID', 'SUMleges', 'case_type', 'IDofConceptCase',\n",
      "       'org:resource', 'activityNameEN', 'action_code', 'activityNameNL',\n",
      "       'planned', 'dateStop', 'dateFinished', 'question', 'dueDate',\n",
      "       'monitoringResource'],\n",
      "      dtype='object')\n",
      "(47293, 29)\n",
      "Index(['case', 'event', 'startTime', 'completeTime', 'startDate', 'termName',\n",
      "       'caseProcedure', 'Responsible_actor', 'caseStatus', 'Includes_subCases',\n",
      "       'endDatePlanned', 'requestComplete', 'endDate', 'parts', 'last_phase',\n",
      "       'landRegisterID', 'SUMleges', 'case_type', 'IDofConceptCase',\n",
      "       'org:resource', 'activityNameEN', 'action_code', 'activityNameNL',\n",
      "       'planned', 'dateStop', 'dateFinished', 'question', 'dueDate',\n",
      "       'monitoringResource'],\n",
      "      dtype='object')\n",
      "(59083, 29)\n",
      "Index(['case', 'event', 'startTime', 'completeTime', 'termName', 'startDate',\n",
      "       'caseProcedure', 'Responsible_actor', 'caseStatus', 'Includes_subCases',\n",
      "       'endDatePlanned', 'endDate', 'parts', 'requestComplete', 'last_phase',\n",
      "       'landRegisterID', 'SUMleges', 'case_type', 'IDofConceptCase',\n",
      "       'org:resource', 'activityNameEN', 'action_code', 'activityNameNL',\n",
      "       'planned', 'dateStop', 'dateFinished', 'question', 'dueDate',\n",
      "       'monitoringResource'],\n",
      "      dtype='object')\n"
     ]
    }
   ],
   "source": [
    "import pandas as pd\n",
    "import numpy as np\n",
    "\n",
    "pd.set_option('display.max_columns', 60)\n",
    "bpi2015= []\n",
    "for c in range(5):\n",
    "    bpi2015.append(pd.read_csv(\"bpi2015_\"+str(c+1)+\".csv\", low_memory=False))\n",
    "    print(bpi2015[c].shape)\n",
    "    print(bpi2015[c].columns)\n",
    "    "
   ]
  },
  {
   "cell_type": "markdown",
   "metadata": {},
   "source": [
    "# Preprocessing\n",
    "Starts the preprocessing to remove null values in the 5 datasets"
   ]
  },
  {
   "cell_type": "code",
   "execution_count": 2,
   "metadata": {},
   "outputs": [
    {
     "name": "stdout",
     "output_type": "stream",
     "text": [
      "True\n",
      "True\n",
      "True\n",
      "True\n",
      "True\n"
     ]
    }
   ],
   "source": [
    "for c in bpi2015:\n",
    "    print(np.all(c.startTime == c.completeTime))"
   ]
  },
  {
   "cell_type": "code",
   "execution_count": 3,
   "metadata": {},
   "outputs": [
    {
     "name": "stderr",
     "output_type": "stream",
     "text": [
      "/Users/resinas/anaconda3/lib/python3.6/site-packages/ipykernel_launcher.py:1: FutureWarning: Sorting because non-concatenation axis is not aligned. A future version\n",
      "of pandas will change to not sort by default.\n",
      "\n",
      "To accept the future behavior, pass 'sort=False'.\n",
      "\n",
      "To retain the current behavior and silence the warning, pass 'sort=True'.\n",
      "\n",
      "  \"\"\"Entry point for launching an IPython kernel.\n"
     ]
    },
    {
     "data": {
      "text/html": [
       "<div>\n",
       "<style scoped>\n",
       "    .dataframe tbody tr th:only-of-type {\n",
       "        vertical-align: middle;\n",
       "    }\n",
       "\n",
       "    .dataframe tbody tr th {\n",
       "        vertical-align: top;\n",
       "    }\n",
       "\n",
       "    .dataframe thead th {\n",
       "        text-align: right;\n",
       "    }\n",
       "</style>\n",
       "<table border=\"1\" class=\"dataframe\">\n",
       "  <thead>\n",
       "    <tr style=\"text-align: right;\">\n",
       "      <th></th>\n",
       "      <th>0</th>\n",
       "      <th>1</th>\n",
       "      <th>2</th>\n",
       "      <th>3</th>\n",
       "      <th>4</th>\n",
       "    </tr>\n",
       "  </thead>\n",
       "  <tbody>\n",
       "    <tr>\n",
       "      <th>IDofConceptCase</th>\n",
       "      <td>16381</td>\n",
       "      <td>27266.0</td>\n",
       "      <td>24639</td>\n",
       "      <td>19401</td>\n",
       "      <td>26240</td>\n",
       "    </tr>\n",
       "    <tr>\n",
       "      <th>Includes_subCases</th>\n",
       "      <td>11280</td>\n",
       "      <td>10701.0</td>\n",
       "      <td>14066</td>\n",
       "      <td>7819</td>\n",
       "      <td>15027</td>\n",
       "    </tr>\n",
       "    <tr>\n",
       "      <th>Responsible_actor</th>\n",
       "      <td>19</td>\n",
       "      <td>0.0</td>\n",
       "      <td>0</td>\n",
       "      <td>0</td>\n",
       "      <td>0</td>\n",
       "    </tr>\n",
       "    <tr>\n",
       "      <th>SUMleges</th>\n",
       "      <td>8632</td>\n",
       "      <td>11806.0</td>\n",
       "      <td>20506</td>\n",
       "      <td>9081</td>\n",
       "      <td>8409</td>\n",
       "    </tr>\n",
       "    <tr>\n",
       "      <th>action_code</th>\n",
       "      <td>0</td>\n",
       "      <td>1.0</td>\n",
       "      <td>0</td>\n",
       "      <td>1</td>\n",
       "      <td>5</td>\n",
       "    </tr>\n",
       "    <tr>\n",
       "      <th>activityNameEN</th>\n",
       "      <td>0</td>\n",
       "      <td>0.0</td>\n",
       "      <td>0</td>\n",
       "      <td>0</td>\n",
       "      <td>0</td>\n",
       "    </tr>\n",
       "    <tr>\n",
       "      <th>activityNameNL</th>\n",
       "      <td>0</td>\n",
       "      <td>0.0</td>\n",
       "      <td>0</td>\n",
       "      <td>0</td>\n",
       "      <td>0</td>\n",
       "    </tr>\n",
       "    <tr>\n",
       "      <th>case</th>\n",
       "      <td>0</td>\n",
       "      <td>0.0</td>\n",
       "      <td>0</td>\n",
       "      <td>0</td>\n",
       "      <td>0</td>\n",
       "    </tr>\n",
       "    <tr>\n",
       "      <th>caseProcedure</th>\n",
       "      <td>46538</td>\n",
       "      <td>30728.0</td>\n",
       "      <td>51567</td>\n",
       "      <td>40434</td>\n",
       "      <td>52791</td>\n",
       "    </tr>\n",
       "    <tr>\n",
       "      <th>caseStatus</th>\n",
       "      <td>0</td>\n",
       "      <td>0.0</td>\n",
       "      <td>0</td>\n",
       "      <td>0</td>\n",
       "      <td>0</td>\n",
       "    </tr>\n",
       "    <tr>\n",
       "      <th>case_type</th>\n",
       "      <td>0</td>\n",
       "      <td>0.0</td>\n",
       "      <td>0</td>\n",
       "      <td>0</td>\n",
       "      <td>0</td>\n",
       "    </tr>\n",
       "    <tr>\n",
       "      <th>completeTime</th>\n",
       "      <td>0</td>\n",
       "      <td>0.0</td>\n",
       "      <td>0</td>\n",
       "      <td>0</td>\n",
       "      <td>0</td>\n",
       "    </tr>\n",
       "    <tr>\n",
       "      <th>dateFinished</th>\n",
       "      <td>0</td>\n",
       "      <td>0.0</td>\n",
       "      <td>0</td>\n",
       "      <td>0</td>\n",
       "      <td>0</td>\n",
       "    </tr>\n",
       "    <tr>\n",
       "      <th>dateStop</th>\n",
       "      <td>52148</td>\n",
       "      <td>44319.0</td>\n",
       "      <td>59657</td>\n",
       "      <td>47287</td>\n",
       "      <td>59070</td>\n",
       "    </tr>\n",
       "    <tr>\n",
       "      <th>dueDate</th>\n",
       "      <td>98</td>\n",
       "      <td>24616.0</td>\n",
       "      <td>93</td>\n",
       "      <td>10512</td>\n",
       "      <td>162</td>\n",
       "    </tr>\n",
       "    <tr>\n",
       "      <th>endDate</th>\n",
       "      <td>7744</td>\n",
       "      <td>4118.0</td>\n",
       "      <td>3782</td>\n",
       "      <td>1898</td>\n",
       "      <td>2130</td>\n",
       "    </tr>\n",
       "    <tr>\n",
       "      <th>endDatePlanned</th>\n",
       "      <td>45090</td>\n",
       "      <td>NaN</td>\n",
       "      <td>58403</td>\n",
       "      <td>47241</td>\n",
       "      <td>58931</td>\n",
       "    </tr>\n",
       "    <tr>\n",
       "      <th>event</th>\n",
       "      <td>0</td>\n",
       "      <td>0.0</td>\n",
       "      <td>0</td>\n",
       "      <td>0</td>\n",
       "      <td>0</td>\n",
       "    </tr>\n",
       "    <tr>\n",
       "      <th>landRegisterID</th>\n",
       "      <td>44210</td>\n",
       "      <td>32686.0</td>\n",
       "      <td>47826</td>\n",
       "      <td>42636</td>\n",
       "      <td>1252</td>\n",
       "    </tr>\n",
       "    <tr>\n",
       "      <th>last_phase</th>\n",
       "      <td>0</td>\n",
       "      <td>61.0</td>\n",
       "      <td>0</td>\n",
       "      <td>0</td>\n",
       "      <td>0</td>\n",
       "    </tr>\n",
       "    <tr>\n",
       "      <th>monitoringResource</th>\n",
       "      <td>0</td>\n",
       "      <td>0.0</td>\n",
       "      <td>0</td>\n",
       "      <td>0</td>\n",
       "      <td>0</td>\n",
       "    </tr>\n",
       "    <tr>\n",
       "      <th>org:resource</th>\n",
       "      <td>0</td>\n",
       "      <td>0.0</td>\n",
       "      <td>0</td>\n",
       "      <td>0</td>\n",
       "      <td>0</td>\n",
       "    </tr>\n",
       "    <tr>\n",
       "      <th>parts</th>\n",
       "      <td>23</td>\n",
       "      <td>147.0</td>\n",
       "      <td>1107</td>\n",
       "      <td>271</td>\n",
       "      <td>136</td>\n",
       "    </tr>\n",
       "    <tr>\n",
       "      <th>planned</th>\n",
       "      <td>1</td>\n",
       "      <td>8.0</td>\n",
       "      <td>7</td>\n",
       "      <td>6</td>\n",
       "      <td>11</td>\n",
       "    </tr>\n",
       "    <tr>\n",
       "      <th>question</th>\n",
       "      <td>0</td>\n",
       "      <td>0.0</td>\n",
       "      <td>0</td>\n",
       "      <td>0</td>\n",
       "      <td>0</td>\n",
       "    </tr>\n",
       "    <tr>\n",
       "      <th>requestComplete</th>\n",
       "      <td>0</td>\n",
       "      <td>0.0</td>\n",
       "      <td>0</td>\n",
       "      <td>0</td>\n",
       "      <td>0</td>\n",
       "    </tr>\n",
       "    <tr>\n",
       "      <th>startDate</th>\n",
       "      <td>0</td>\n",
       "      <td>0.0</td>\n",
       "      <td>0</td>\n",
       "      <td>0</td>\n",
       "      <td>0</td>\n",
       "    </tr>\n",
       "    <tr>\n",
       "      <th>startTime</th>\n",
       "      <td>0</td>\n",
       "      <td>0.0</td>\n",
       "      <td>0</td>\n",
       "      <td>0</td>\n",
       "      <td>0</td>\n",
       "    </tr>\n",
       "    <tr>\n",
       "      <th>termName</th>\n",
       "      <td>13743</td>\n",
       "      <td>39802.0</td>\n",
       "      <td>8518</td>\n",
       "      <td>39767</td>\n",
       "      <td>46410</td>\n",
       "    </tr>\n",
       "  </tbody>\n",
       "</table>\n",
       "</div>"
      ],
      "text/plain": [
       "                        0        1      2      3      4\n",
       "IDofConceptCase     16381  27266.0  24639  19401  26240\n",
       "Includes_subCases   11280  10701.0  14066   7819  15027\n",
       "Responsible_actor      19      0.0      0      0      0\n",
       "SUMleges             8632  11806.0  20506   9081   8409\n",
       "action_code             0      1.0      0      1      5\n",
       "activityNameEN          0      0.0      0      0      0\n",
       "activityNameNL          0      0.0      0      0      0\n",
       "case                    0      0.0      0      0      0\n",
       "caseProcedure       46538  30728.0  51567  40434  52791\n",
       "caseStatus              0      0.0      0      0      0\n",
       "case_type               0      0.0      0      0      0\n",
       "completeTime            0      0.0      0      0      0\n",
       "dateFinished            0      0.0      0      0      0\n",
       "dateStop            52148  44319.0  59657  47287  59070\n",
       "dueDate                98  24616.0     93  10512    162\n",
       "endDate              7744   4118.0   3782   1898   2130\n",
       "endDatePlanned      45090      NaN  58403  47241  58931\n",
       "event                   0      0.0      0      0      0\n",
       "landRegisterID      44210  32686.0  47826  42636   1252\n",
       "last_phase              0     61.0      0      0      0\n",
       "monitoringResource      0      0.0      0      0      0\n",
       "org:resource            0      0.0      0      0      0\n",
       "parts                  23    147.0   1107    271    136\n",
       "planned                 1      8.0      7      6     11\n",
       "question                0      0.0      0      0      0\n",
       "requestComplete         0      0.0      0      0      0\n",
       "startDate               0      0.0      0      0      0\n",
       "startTime               0      0.0      0      0      0\n",
       "termName            13743  39802.0   8518  39767  46410"
      ]
     },
     "execution_count": 3,
     "metadata": {},
     "output_type": "execute_result"
    }
   ],
   "source": [
    "pd.concat([c.isnull().sum() for c in bpi2015], axis=1)\n"
   ]
  },
  {
   "cell_type": "code",
   "execution_count": 4,
   "metadata": {},
   "outputs": [
    {
     "data": {
      "text/plain": [
       "termName              object\n",
       "caseProcedure         object\n",
       "Responsible_actor    float64\n",
       "caseStatus            object\n",
       "Includes_subCases     object\n",
       "parts                 object\n",
       "landRegisterID       float64\n",
       "dtype: object"
      ]
     },
     "execution_count": 4,
     "metadata": {},
     "output_type": "execute_result"
    }
   ],
   "source": [
    "bpi2015[0][['termName', 'caseProcedure', 'Responsible_actor', 'caseStatus', 'Includes_subCases', 'parts', 'landRegisterID']].dtypes"
   ]
  },
  {
   "cell_type": "code",
   "execution_count": 5,
   "metadata": {},
   "outputs": [],
   "source": [
    "for c in bpi2015:\n",
    "    c.loc[:,['termName', 'caseProcedure','caseStatus', 'Includes_subCases', 'parts']] = c.loc[:,['termName', 'caseProcedure','caseStatus', 'Includes_subCases', 'parts']].fillna('NA')"
   ]
  },
  {
   "cell_type": "code",
   "execution_count": 6,
   "metadata": {},
   "outputs": [
    {
     "name": "stdout",
     "output_type": "stream",
     "text": [
      "False\n",
      "False\n"
     ]
    }
   ],
   "source": [
    "print(np.any(pd.concat([c['Responsible_actor'].value_counts() for c in bpi2015], axis=1) == 0))\n",
    "print(np.any(pd.concat([c['landRegisterID'].value_counts() for c in bpi2015], axis=1) == 0))"
   ]
  },
  {
   "cell_type": "code",
   "execution_count": 7,
   "metadata": {},
   "outputs": [],
   "source": [
    "for c in bpi2015:\n",
    "    c.loc[:,['Responsible_actor', 'landRegisterID']] = c.loc[:,['Responsible_actor', 'landRegisterID']].fillna(0)"
   ]
  },
  {
   "cell_type": "code",
   "execution_count": 8,
   "metadata": {},
   "outputs": [
    {
     "name": "stdout",
     "output_type": "stream",
     "text": [
      "False\n"
     ]
    }
   ],
   "source": [
    "print(np.any(pd.concat([c['SUMleges'].value_counts() for c in bpi2015], axis=1) == 0))"
   ]
  },
  {
   "cell_type": "code",
   "execution_count": 9,
   "metadata": {},
   "outputs": [],
   "source": [
    "for c in bpi2015:\n",
    "    c.loc[:,['SUMleges']] = c.loc[:,['SUMleges']].fillna(0)"
   ]
  },
  {
   "cell_type": "code",
   "execution_count": 10,
   "metadata": {},
   "outputs": [],
   "source": [
    "for c in bpi2015:\n",
    "    c['HasConceptCase'] = ~c['IDofConceptCase'].isnull()"
   ]
  },
  {
   "cell_type": "code",
   "execution_count": 11,
   "metadata": {},
   "outputs": [
    {
     "name": "stderr",
     "output_type": "stream",
     "text": [
      "/Users/resinas/anaconda3/lib/python3.6/site-packages/ipykernel_launcher.py:1: FutureWarning: Sorting because non-concatenation axis is not aligned. A future version\n",
      "of pandas will change to not sort by default.\n",
      "\n",
      "To accept the future behavior, pass 'sort=False'.\n",
      "\n",
      "To retain the current behavior and silence the warning, pass 'sort=True'.\n",
      "\n",
      "  \"\"\"Entry point for launching an IPython kernel.\n"
     ]
    },
    {
     "data": {
      "text/html": [
       "<div>\n",
       "<style scoped>\n",
       "    .dataframe tbody tr th:only-of-type {\n",
       "        vertical-align: middle;\n",
       "    }\n",
       "\n",
       "    .dataframe tbody tr th {\n",
       "        vertical-align: top;\n",
       "    }\n",
       "\n",
       "    .dataframe thead th {\n",
       "        text-align: right;\n",
       "    }\n",
       "</style>\n",
       "<table border=\"1\" class=\"dataframe\">\n",
       "  <thead>\n",
       "    <tr style=\"text-align: right;\">\n",
       "      <th></th>\n",
       "      <th>0</th>\n",
       "      <th>1</th>\n",
       "      <th>2</th>\n",
       "      <th>3</th>\n",
       "      <th>4</th>\n",
       "    </tr>\n",
       "  </thead>\n",
       "  <tbody>\n",
       "    <tr>\n",
       "      <th>HasConceptCase</th>\n",
       "      <td>0</td>\n",
       "      <td>0.0</td>\n",
       "      <td>0</td>\n",
       "      <td>0</td>\n",
       "      <td>0</td>\n",
       "    </tr>\n",
       "    <tr>\n",
       "      <th>IDofConceptCase</th>\n",
       "      <td>16381</td>\n",
       "      <td>27266.0</td>\n",
       "      <td>24639</td>\n",
       "      <td>19401</td>\n",
       "      <td>26240</td>\n",
       "    </tr>\n",
       "    <tr>\n",
       "      <th>Includes_subCases</th>\n",
       "      <td>0</td>\n",
       "      <td>0.0</td>\n",
       "      <td>0</td>\n",
       "      <td>0</td>\n",
       "      <td>0</td>\n",
       "    </tr>\n",
       "    <tr>\n",
       "      <th>Responsible_actor</th>\n",
       "      <td>0</td>\n",
       "      <td>0.0</td>\n",
       "      <td>0</td>\n",
       "      <td>0</td>\n",
       "      <td>0</td>\n",
       "    </tr>\n",
       "    <tr>\n",
       "      <th>SUMleges</th>\n",
       "      <td>0</td>\n",
       "      <td>0.0</td>\n",
       "      <td>0</td>\n",
       "      <td>0</td>\n",
       "      <td>0</td>\n",
       "    </tr>\n",
       "    <tr>\n",
       "      <th>action_code</th>\n",
       "      <td>0</td>\n",
       "      <td>1.0</td>\n",
       "      <td>0</td>\n",
       "      <td>1</td>\n",
       "      <td>5</td>\n",
       "    </tr>\n",
       "    <tr>\n",
       "      <th>activityNameEN</th>\n",
       "      <td>0</td>\n",
       "      <td>0.0</td>\n",
       "      <td>0</td>\n",
       "      <td>0</td>\n",
       "      <td>0</td>\n",
       "    </tr>\n",
       "    <tr>\n",
       "      <th>activityNameNL</th>\n",
       "      <td>0</td>\n",
       "      <td>0.0</td>\n",
       "      <td>0</td>\n",
       "      <td>0</td>\n",
       "      <td>0</td>\n",
       "    </tr>\n",
       "    <tr>\n",
       "      <th>case</th>\n",
       "      <td>0</td>\n",
       "      <td>0.0</td>\n",
       "      <td>0</td>\n",
       "      <td>0</td>\n",
       "      <td>0</td>\n",
       "    </tr>\n",
       "    <tr>\n",
       "      <th>caseProcedure</th>\n",
       "      <td>0</td>\n",
       "      <td>0.0</td>\n",
       "      <td>0</td>\n",
       "      <td>0</td>\n",
       "      <td>0</td>\n",
       "    </tr>\n",
       "    <tr>\n",
       "      <th>caseStatus</th>\n",
       "      <td>0</td>\n",
       "      <td>0.0</td>\n",
       "      <td>0</td>\n",
       "      <td>0</td>\n",
       "      <td>0</td>\n",
       "    </tr>\n",
       "    <tr>\n",
       "      <th>case_type</th>\n",
       "      <td>0</td>\n",
       "      <td>0.0</td>\n",
       "      <td>0</td>\n",
       "      <td>0</td>\n",
       "      <td>0</td>\n",
       "    </tr>\n",
       "    <tr>\n",
       "      <th>completeTime</th>\n",
       "      <td>0</td>\n",
       "      <td>0.0</td>\n",
       "      <td>0</td>\n",
       "      <td>0</td>\n",
       "      <td>0</td>\n",
       "    </tr>\n",
       "    <tr>\n",
       "      <th>dateFinished</th>\n",
       "      <td>0</td>\n",
       "      <td>0.0</td>\n",
       "      <td>0</td>\n",
       "      <td>0</td>\n",
       "      <td>0</td>\n",
       "    </tr>\n",
       "    <tr>\n",
       "      <th>dateStop</th>\n",
       "      <td>52148</td>\n",
       "      <td>44319.0</td>\n",
       "      <td>59657</td>\n",
       "      <td>47287</td>\n",
       "      <td>59070</td>\n",
       "    </tr>\n",
       "    <tr>\n",
       "      <th>dueDate</th>\n",
       "      <td>98</td>\n",
       "      <td>24616.0</td>\n",
       "      <td>93</td>\n",
       "      <td>10512</td>\n",
       "      <td>162</td>\n",
       "    </tr>\n",
       "    <tr>\n",
       "      <th>endDate</th>\n",
       "      <td>7744</td>\n",
       "      <td>4118.0</td>\n",
       "      <td>3782</td>\n",
       "      <td>1898</td>\n",
       "      <td>2130</td>\n",
       "    </tr>\n",
       "    <tr>\n",
       "      <th>endDatePlanned</th>\n",
       "      <td>45090</td>\n",
       "      <td>NaN</td>\n",
       "      <td>58403</td>\n",
       "      <td>47241</td>\n",
       "      <td>58931</td>\n",
       "    </tr>\n",
       "    <tr>\n",
       "      <th>event</th>\n",
       "      <td>0</td>\n",
       "      <td>0.0</td>\n",
       "      <td>0</td>\n",
       "      <td>0</td>\n",
       "      <td>0</td>\n",
       "    </tr>\n",
       "    <tr>\n",
       "      <th>landRegisterID</th>\n",
       "      <td>0</td>\n",
       "      <td>0.0</td>\n",
       "      <td>0</td>\n",
       "      <td>0</td>\n",
       "      <td>0</td>\n",
       "    </tr>\n",
       "    <tr>\n",
       "      <th>last_phase</th>\n",
       "      <td>0</td>\n",
       "      <td>61.0</td>\n",
       "      <td>0</td>\n",
       "      <td>0</td>\n",
       "      <td>0</td>\n",
       "    </tr>\n",
       "    <tr>\n",
       "      <th>monitoringResource</th>\n",
       "      <td>0</td>\n",
       "      <td>0.0</td>\n",
       "      <td>0</td>\n",
       "      <td>0</td>\n",
       "      <td>0</td>\n",
       "    </tr>\n",
       "    <tr>\n",
       "      <th>org:resource</th>\n",
       "      <td>0</td>\n",
       "      <td>0.0</td>\n",
       "      <td>0</td>\n",
       "      <td>0</td>\n",
       "      <td>0</td>\n",
       "    </tr>\n",
       "    <tr>\n",
       "      <th>parts</th>\n",
       "      <td>0</td>\n",
       "      <td>0.0</td>\n",
       "      <td>0</td>\n",
       "      <td>0</td>\n",
       "      <td>0</td>\n",
       "    </tr>\n",
       "    <tr>\n",
       "      <th>planned</th>\n",
       "      <td>1</td>\n",
       "      <td>8.0</td>\n",
       "      <td>7</td>\n",
       "      <td>6</td>\n",
       "      <td>11</td>\n",
       "    </tr>\n",
       "    <tr>\n",
       "      <th>question</th>\n",
       "      <td>0</td>\n",
       "      <td>0.0</td>\n",
       "      <td>0</td>\n",
       "      <td>0</td>\n",
       "      <td>0</td>\n",
       "    </tr>\n",
       "    <tr>\n",
       "      <th>requestComplete</th>\n",
       "      <td>0</td>\n",
       "      <td>0.0</td>\n",
       "      <td>0</td>\n",
       "      <td>0</td>\n",
       "      <td>0</td>\n",
       "    </tr>\n",
       "    <tr>\n",
       "      <th>startDate</th>\n",
       "      <td>0</td>\n",
       "      <td>0.0</td>\n",
       "      <td>0</td>\n",
       "      <td>0</td>\n",
       "      <td>0</td>\n",
       "    </tr>\n",
       "    <tr>\n",
       "      <th>startTime</th>\n",
       "      <td>0</td>\n",
       "      <td>0.0</td>\n",
       "      <td>0</td>\n",
       "      <td>0</td>\n",
       "      <td>0</td>\n",
       "    </tr>\n",
       "    <tr>\n",
       "      <th>termName</th>\n",
       "      <td>0</td>\n",
       "      <td>0.0</td>\n",
       "      <td>0</td>\n",
       "      <td>0</td>\n",
       "      <td>0</td>\n",
       "    </tr>\n",
       "  </tbody>\n",
       "</table>\n",
       "</div>"
      ],
      "text/plain": [
       "                        0        1      2      3      4\n",
       "HasConceptCase          0      0.0      0      0      0\n",
       "IDofConceptCase     16381  27266.0  24639  19401  26240\n",
       "Includes_subCases       0      0.0      0      0      0\n",
       "Responsible_actor       0      0.0      0      0      0\n",
       "SUMleges                0      0.0      0      0      0\n",
       "action_code             0      1.0      0      1      5\n",
       "activityNameEN          0      0.0      0      0      0\n",
       "activityNameNL          0      0.0      0      0      0\n",
       "case                    0      0.0      0      0      0\n",
       "caseProcedure           0      0.0      0      0      0\n",
       "caseStatus              0      0.0      0      0      0\n",
       "case_type               0      0.0      0      0      0\n",
       "completeTime            0      0.0      0      0      0\n",
       "dateFinished            0      0.0      0      0      0\n",
       "dateStop            52148  44319.0  59657  47287  59070\n",
       "dueDate                98  24616.0     93  10512    162\n",
       "endDate              7744   4118.0   3782   1898   2130\n",
       "endDatePlanned      45090      NaN  58403  47241  58931\n",
       "event                   0      0.0      0      0      0\n",
       "landRegisterID          0      0.0      0      0      0\n",
       "last_phase              0     61.0      0      0      0\n",
       "monitoringResource      0      0.0      0      0      0\n",
       "org:resource            0      0.0      0      0      0\n",
       "parts                   0      0.0      0      0      0\n",
       "planned                 1      8.0      7      6     11\n",
       "question                0      0.0      0      0      0\n",
       "requestComplete         0      0.0      0      0      0\n",
       "startDate               0      0.0      0      0      0\n",
       "startTime               0      0.0      0      0      0\n",
       "termName                0      0.0      0      0      0"
      ]
     },
     "execution_count": 11,
     "metadata": {},
     "output_type": "execute_result"
    }
   ],
   "source": [
    "pd.concat([c.isnull().sum() for c in bpi2015], axis=1)"
   ]
  },
  {
   "cell_type": "code",
   "execution_count": 12,
   "metadata": {},
   "outputs": [
    {
     "name": "stderr",
     "output_type": "stream",
     "text": [
      "/Users/resinas/anaconda3/lib/python3.6/site-packages/ipykernel_launcher.py:1: FutureWarning: Sorting because non-concatenation axis is not aligned. A future version\n",
      "of pandas will change to not sort by default.\n",
      "\n",
      "To accept the future behavior, pass 'sort=False'.\n",
      "\n",
      "To retain the current behavior and silence the warning, pass 'sort=True'.\n",
      "\n",
      "  \"\"\"Entry point for launching an IPython kernel.\n"
     ]
    },
    {
     "data": {
      "text/html": [
       "<div>\n",
       "<style scoped>\n",
       "    .dataframe tbody tr th:only-of-type {\n",
       "        vertical-align: middle;\n",
       "    }\n",
       "\n",
       "    .dataframe tbody tr th {\n",
       "        vertical-align: top;\n",
       "    }\n",
       "\n",
       "    .dataframe thead th {\n",
       "        text-align: right;\n",
       "    }\n",
       "</style>\n",
       "<table border=\"1\" class=\"dataframe\">\n",
       "  <thead>\n",
       "    <tr style=\"text-align: right;\">\n",
       "      <th></th>\n",
       "      <th>0</th>\n",
       "      <th>1</th>\n",
       "      <th>2</th>\n",
       "      <th>3</th>\n",
       "      <th>4</th>\n",
       "    </tr>\n",
       "  </thead>\n",
       "  <tbody>\n",
       "    <tr>\n",
       "      <th>HasConceptCase</th>\n",
       "      <td>2</td>\n",
       "      <td>2.0</td>\n",
       "      <td>2</td>\n",
       "      <td>2</td>\n",
       "      <td>2</td>\n",
       "    </tr>\n",
       "    <tr>\n",
       "      <th>IDofConceptCase</th>\n",
       "      <td>810</td>\n",
       "      <td>310.0</td>\n",
       "      <td>804</td>\n",
       "      <td>621</td>\n",
       "      <td>637</td>\n",
       "    </tr>\n",
       "    <tr>\n",
       "      <th>Includes_subCases</th>\n",
       "      <td>3</td>\n",
       "      <td>3.0</td>\n",
       "      <td>3</td>\n",
       "      <td>3</td>\n",
       "      <td>3</td>\n",
       "    </tr>\n",
       "    <tr>\n",
       "      <th>Responsible_actor</th>\n",
       "      <td>21</td>\n",
       "      <td>7.0</td>\n",
       "      <td>20</td>\n",
       "      <td>9</td>\n",
       "      <td>8</td>\n",
       "    </tr>\n",
       "    <tr>\n",
       "      <th>SUMleges</th>\n",
       "      <td>613</td>\n",
       "      <td>363.0</td>\n",
       "      <td>533</td>\n",
       "      <td>476</td>\n",
       "      <td>565</td>\n",
       "    </tr>\n",
       "    <tr>\n",
       "      <th>action_code</th>\n",
       "      <td>397</td>\n",
       "      <td>408.0</td>\n",
       "      <td>383</td>\n",
       "      <td>354</td>\n",
       "      <td>385</td>\n",
       "    </tr>\n",
       "    <tr>\n",
       "      <th>activityNameEN</th>\n",
       "      <td>289</td>\n",
       "      <td>304.0</td>\n",
       "      <td>277</td>\n",
       "      <td>272</td>\n",
       "      <td>285</td>\n",
       "    </tr>\n",
       "    <tr>\n",
       "      <th>activityNameNL</th>\n",
       "      <td>289</td>\n",
       "      <td>304.0</td>\n",
       "      <td>277</td>\n",
       "      <td>272</td>\n",
       "      <td>285</td>\n",
       "    </tr>\n",
       "    <tr>\n",
       "      <th>case</th>\n",
       "      <td>1199</td>\n",
       "      <td>832.0</td>\n",
       "      <td>1409</td>\n",
       "      <td>1053</td>\n",
       "      <td>1156</td>\n",
       "    </tr>\n",
       "    <tr>\n",
       "      <th>caseProcedure</th>\n",
       "      <td>3</td>\n",
       "      <td>3.0</td>\n",
       "      <td>3</td>\n",
       "      <td>3</td>\n",
       "      <td>3</td>\n",
       "    </tr>\n",
       "    <tr>\n",
       "      <th>caseStatus</th>\n",
       "      <td>3</td>\n",
       "      <td>2.0</td>\n",
       "      <td>2</td>\n",
       "      <td>2</td>\n",
       "      <td>3</td>\n",
       "    </tr>\n",
       "    <tr>\n",
       "      <th>case_type</th>\n",
       "      <td>1</td>\n",
       "      <td>1.0</td>\n",
       "      <td>1</td>\n",
       "      <td>1</td>\n",
       "      <td>1</td>\n",
       "    </tr>\n",
       "    <tr>\n",
       "      <th>completeTime</th>\n",
       "      <td>24142</td>\n",
       "      <td>18522.0</td>\n",
       "      <td>28280</td>\n",
       "      <td>17480</td>\n",
       "      <td>21021</td>\n",
       "    </tr>\n",
       "    <tr>\n",
       "      <th>dateFinished</th>\n",
       "      <td>5566</td>\n",
       "      <td>3799.0</td>\n",
       "      <td>6857</td>\n",
       "      <td>4676</td>\n",
       "      <td>5683</td>\n",
       "    </tr>\n",
       "    <tr>\n",
       "      <th>dateStop</th>\n",
       "      <td>2</td>\n",
       "      <td>1.0</td>\n",
       "      <td>1</td>\n",
       "      <td>1</td>\n",
       "      <td>1</td>\n",
       "    </tr>\n",
       "    <tr>\n",
       "      <th>dueDate</th>\n",
       "      <td>3340</td>\n",
       "      <td>398.0</td>\n",
       "      <td>3850</td>\n",
       "      <td>1483</td>\n",
       "      <td>2867</td>\n",
       "    </tr>\n",
       "    <tr>\n",
       "      <th>endDate</th>\n",
       "      <td>478</td>\n",
       "      <td>671.0</td>\n",
       "      <td>698</td>\n",
       "      <td>614</td>\n",
       "      <td>726</td>\n",
       "    </tr>\n",
       "    <tr>\n",
       "      <th>endDatePlanned</th>\n",
       "      <td>86</td>\n",
       "      <td>NaN</td>\n",
       "      <td>18</td>\n",
       "      <td>2</td>\n",
       "      <td>3</td>\n",
       "    </tr>\n",
       "    <tr>\n",
       "      <th>event</th>\n",
       "      <td>398</td>\n",
       "      <td>410.0</td>\n",
       "      <td>383</td>\n",
       "      <td>356</td>\n",
       "      <td>389</td>\n",
       "    </tr>\n",
       "    <tr>\n",
       "      <th>landRegisterID</th>\n",
       "      <td>141</td>\n",
       "      <td>204.0</td>\n",
       "      <td>207</td>\n",
       "      <td>86</td>\n",
       "      <td>857</td>\n",
       "    </tr>\n",
       "    <tr>\n",
       "      <th>last_phase</th>\n",
       "      <td>27</td>\n",
       "      <td>22.0</td>\n",
       "      <td>27</td>\n",
       "      <td>25</td>\n",
       "      <td>25</td>\n",
       "    </tr>\n",
       "    <tr>\n",
       "      <th>monitoringResource</th>\n",
       "      <td>26</td>\n",
       "      <td>9.0</td>\n",
       "      <td>22</td>\n",
       "      <td>12</td>\n",
       "      <td>16</td>\n",
       "    </tr>\n",
       "    <tr>\n",
       "      <th>org:resource</th>\n",
       "      <td>23</td>\n",
       "      <td>11.0</td>\n",
       "      <td>14</td>\n",
       "      <td>10</td>\n",
       "      <td>22</td>\n",
       "    </tr>\n",
       "    <tr>\n",
       "      <th>parts</th>\n",
       "      <td>89</td>\n",
       "      <td>64.0</td>\n",
       "      <td>94</td>\n",
       "      <td>53</td>\n",
       "      <td>107</td>\n",
       "    </tr>\n",
       "    <tr>\n",
       "      <th>planned</th>\n",
       "      <td>38879</td>\n",
       "      <td>25069.0</td>\n",
       "      <td>40486</td>\n",
       "      <td>25369</td>\n",
       "      <td>34436</td>\n",
       "    </tr>\n",
       "    <tr>\n",
       "      <th>question</th>\n",
       "      <td>422</td>\n",
       "      <td>391.0</td>\n",
       "      <td>540</td>\n",
       "      <td>374</td>\n",
       "      <td>625</td>\n",
       "    </tr>\n",
       "    <tr>\n",
       "      <th>requestComplete</th>\n",
       "      <td>2</td>\n",
       "      <td>2.0</td>\n",
       "      <td>2</td>\n",
       "      <td>2</td>\n",
       "      <td>2</td>\n",
       "    </tr>\n",
       "    <tr>\n",
       "      <th>startDate</th>\n",
       "      <td>741</td>\n",
       "      <td>582.0</td>\n",
       "      <td>818</td>\n",
       "      <td>696</td>\n",
       "      <td>754</td>\n",
       "    </tr>\n",
       "    <tr>\n",
       "      <th>startTime</th>\n",
       "      <td>24142</td>\n",
       "      <td>18522.0</td>\n",
       "      <td>28280</td>\n",
       "      <td>17480</td>\n",
       "      <td>21021</td>\n",
       "    </tr>\n",
       "    <tr>\n",
       "      <th>termName</th>\n",
       "      <td>14</td>\n",
       "      <td>10.0</td>\n",
       "      <td>14</td>\n",
       "      <td>14</td>\n",
       "      <td>11</td>\n",
       "    </tr>\n",
       "  </tbody>\n",
       "</table>\n",
       "</div>"
      ],
      "text/plain": [
       "                        0        1      2      3      4\n",
       "HasConceptCase          2      2.0      2      2      2\n",
       "IDofConceptCase       810    310.0    804    621    637\n",
       "Includes_subCases       3      3.0      3      3      3\n",
       "Responsible_actor      21      7.0     20      9      8\n",
       "SUMleges              613    363.0    533    476    565\n",
       "action_code           397    408.0    383    354    385\n",
       "activityNameEN        289    304.0    277    272    285\n",
       "activityNameNL        289    304.0    277    272    285\n",
       "case                 1199    832.0   1409   1053   1156\n",
       "caseProcedure           3      3.0      3      3      3\n",
       "caseStatus              3      2.0      2      2      3\n",
       "case_type               1      1.0      1      1      1\n",
       "completeTime        24142  18522.0  28280  17480  21021\n",
       "dateFinished         5566   3799.0   6857   4676   5683\n",
       "dateStop                2      1.0      1      1      1\n",
       "dueDate              3340    398.0   3850   1483   2867\n",
       "endDate               478    671.0    698    614    726\n",
       "endDatePlanned         86      NaN     18      2      3\n",
       "event                 398    410.0    383    356    389\n",
       "landRegisterID        141    204.0    207     86    857\n",
       "last_phase             27     22.0     27     25     25\n",
       "monitoringResource     26      9.0     22     12     16\n",
       "org:resource           23     11.0     14     10     22\n",
       "parts                  89     64.0     94     53    107\n",
       "planned             38879  25069.0  40486  25369  34436\n",
       "question              422    391.0    540    374    625\n",
       "requestComplete         2      2.0      2      2      2\n",
       "startDate             741    582.0    818    696    754\n",
       "startTime           24142  18522.0  28280  17480  21021\n",
       "termName               14     10.0     14     14     11"
      ]
     },
     "execution_count": 12,
     "metadata": {},
     "output_type": "execute_result"
    }
   ],
   "source": [
    "pd.concat([c.nunique() for c in bpi2015], axis=1)"
   ]
  },
  {
   "cell_type": "markdown",
   "metadata": {},
   "source": [
    "# Encoding the datasets"
   ]
  },
  {
   "cell_type": "code",
   "execution_count": 13,
   "metadata": {
    "scrolled": true
   },
   "outputs": [
    {
     "name": "stdout",
     "output_type": "stream",
     "text": [
      "Found False\n",
      "Found False\n",
      "Found False\n",
      "Found False\n",
      "Found False\n"
     ]
    }
   ],
   "source": [
    "import EventLog as el\n",
    "logs = [el.EventLog(c, 'case', 'completeTime') for c in bpi2015]"
   ]
  },
  {
   "cell_type": "code",
   "execution_count": 15,
   "metadata": {},
   "outputs": [
    {
     "data": {
      "text/plain": [
       "['case', 'startTime']"
      ]
     },
     "execution_count": 15,
     "metadata": {},
     "output_type": "execute_result"
    }
   ],
   "source": [
    "from sklearn.preprocessing import OneHotEncoder\n",
    "\n",
    "encoder = el.LogEncoder(transformers = [('static_drop', 'drop', ['case_type', 'startDate', 'endDate', 'endDatePlanned', 'last_phase', 'IDofConceptCase']),\n",
    "                                     ('static_keep', 'keep', ['requestComplete', 'HasConceptCase']),\n",
    "                                     ('static_onehot', el.WrapperEncoder(logs[0].id_column,OneHotEncoder(sparse=False)), ['termName', 'caseProcedure', 'Responsible_actor', 'caseStatus', 'Includes_subCases', 'parts', 'landRegisterID']),\n",
    "                                     ('dynamic_drop', 'drop', ['action_code', 'activityNameNL', 'planned', 'dateStop', 'dateFinished', 'dueDate', 'question']),\n",
    "                                     ('dynamic_keep', 'keep', ['SUMleges']),\n",
    "                                     ('dynamic_freq', el.FrequencyEncoder(logs[0].id_column), ['event', 'org:resource', 'activityNameEN','monitoringResource']),\n",
    "                                     ('timestamp', el.TimestampFeatures(logs[0].id_column, ['event_order', 'time_from_start', 'elapsed_time_from_event']), [logs[0].timestamp_column])])\n",
    "\n",
    "\n",
    "encoder.check_unused(logs[0])"
   ]
  },
  {
   "cell_type": "code",
   "execution_count": 16,
   "metadata": {},
   "outputs": [
    {
     "name": "stdout",
     "output_type": "stream",
     "text": [
      "Fitting static_drop\n",
      "Fitting static_keep\n",
      "Fitting static_onehot\n",
      "Fitting dynamic_drop\n",
      "Fitting dynamic_keep\n",
      "Fitting dynamic_freq\n",
      "Fitting timestamp\n",
      "Transforming static_drop\n",
      "Transforming static_keep\n",
      "Transforming static_onehot\n",
      "Transforming dynamic_drop\n",
      "Transforming dynamic_keep\n",
      "Transforming dynamic_freq\n",
      "Transforming timestamp\n",
      "Fitting static_drop\n",
      "Fitting static_keep\n",
      "Fitting static_onehot\n",
      "Fitting dynamic_drop\n",
      "Fitting dynamic_keep\n",
      "Fitting dynamic_freq\n",
      "Fitting timestamp\n",
      "Transforming static_drop\n",
      "Transforming static_keep\n",
      "Transforming static_onehot\n",
      "Transforming dynamic_drop\n",
      "Transforming dynamic_keep\n",
      "Transforming dynamic_freq\n",
      "Transforming timestamp\n",
      "Fitting static_drop\n",
      "Fitting static_keep\n",
      "Fitting static_onehot\n",
      "Fitting dynamic_drop\n",
      "Fitting dynamic_keep\n",
      "Fitting dynamic_freq\n",
      "Fitting timestamp\n",
      "Transforming static_drop\n",
      "Transforming static_keep\n",
      "Transforming static_onehot\n",
      "Transforming dynamic_drop\n",
      "Transforming dynamic_keep\n",
      "Transforming dynamic_freq\n",
      "Transforming timestamp\n",
      "Fitting static_drop\n",
      "Fitting static_keep\n",
      "Fitting static_onehot\n",
      "Fitting dynamic_drop\n",
      "Fitting dynamic_keep\n",
      "Fitting dynamic_freq\n",
      "Fitting timestamp\n",
      "Transforming static_drop\n",
      "Transforming static_keep\n",
      "Transforming static_onehot\n",
      "Transforming dynamic_drop\n",
      "Transforming dynamic_keep\n",
      "Transforming dynamic_freq\n",
      "Transforming timestamp\n",
      "Fitting static_drop\n",
      "Fitting static_keep\n",
      "Fitting static_onehot\n",
      "Fitting dynamic_drop\n",
      "Fitting dynamic_keep\n",
      "Fitting dynamic_freq\n",
      "Fitting timestamp\n",
      "Transforming static_drop\n",
      "Transforming static_keep\n",
      "Transforming static_onehot\n",
      "Transforming dynamic_drop\n",
      "Transforming dynamic_keep\n",
      "Transforming dynamic_freq\n",
      "Transforming timestamp\n"
     ]
    }
   ],
   "source": [
    "datasets = [encoder.fit_transform(l) for l in logs]"
   ]
  },
  {
   "cell_type": "code",
   "execution_count": 17,
   "metadata": {},
   "outputs": [
    {
     "data": {
      "text/plain": [
       "[0, 0, 0, 0, 0]"
      ]
     },
     "execution_count": 17,
     "metadata": {},
     "output_type": "execute_result"
    }
   ],
   "source": [
    "[(dataset.isnull().sum() > 0).sum() for dataset in datasets]"
   ]
  },
  {
   "cell_type": "markdown",
   "metadata": {},
   "source": [
    "Here we compute the target for the prediction"
   ]
  },
  {
   "cell_type": "code",
   "execution_count": 19,
   "metadata": {},
   "outputs": [],
   "source": [
    "y = []\n",
    "for log in logs:\n",
    "    mask_scr = log.df['activityNameEN'] == 'send confirmation receipt'\n",
    "    mask_rmd = log.df['activityNameEN'] == 'retrieve missing data'\n",
    "    event_order = log.df.groupby(log.id_column).cumcount()\n",
    "    rmd = pd.concat([event_order[mask_rmd], log.df[log.id_column]], axis=1).groupby('case').transform('max')\n",
    "    scr = pd.concat([event_order[mask_scr], log.df[log.id_column]], axis=1).groupby('case').transform('max')\n",
    "    y.append(~(scr.isnull() | (rmd > scr))[0])\n",
    "    \n",
    "X = [el.transform_timedeltas(dataset) for dataset in datasets]\n"
   ]
  },
  {
   "cell_type": "code",
   "execution_count": 21,
   "metadata": {},
   "outputs": [
    {
     "data": {
      "text/plain": [
       "[879, 643, 1131, 792, 779]"
      ]
     },
     "execution_count": 21,
     "metadata": {},
     "output_type": "execute_result"
    }
   ],
   "source": [
    "[logs[i].df.loc[y[i], logs[i].id_column].nunique() for i in range(0,5)]"
   ]
  },
  {
   "cell_type": "markdown",
   "metadata": {},
   "source": [
    "We first make sure that the shapes of X and y look nice"
   ]
  },
  {
   "cell_type": "code",
   "execution_count": 22,
   "metadata": {},
   "outputs": [
    {
     "data": {
      "text/plain": [
       "[((52217, 1016), (52217,)),\n",
       " ((44354, 1033), (44354,)),\n",
       " ((59681, 1045), (59681,)),\n",
       " ((47293, 826), (47293,)),\n",
       " ((59083, 1710), (59083,))]"
      ]
     },
     "execution_count": 22,
     "metadata": {},
     "output_type": "execute_result"
    }
   ],
   "source": [
    "[(X[i].shape, y[i].shape) for i in range(5)]"
   ]
  },
  {
   "cell_type": "markdown",
   "metadata": {},
   "source": [
    "# Experiments"
   ]
  },
  {
   "cell_type": "code",
   "execution_count": 31,
   "metadata": {},
   "outputs": [],
   "source": [
    "from splitters import TimeCaseSplit\n",
    "\n",
    "def print_split(splitter):\n",
    "    for i in range(5):\n",
    "        print('Dataset '+str(i))\n",
    "        prev_ti = None\n",
    "        count_train = 0\n",
    "        count_test = 0\n",
    "        for _,_,ti,ts in splitter.split(X[i],y[i],logs[i].df[logs[i].id_column], logs[i].df[logs[i].timestamp_column]):\n",
    "            if prev_ti != ti:\n",
    "                print('Train ' + str(count_train) + ' has '+ str(count_test))\n",
    "                prev_ti = ti\n",
    "                count_test = 0\n",
    "                count_train = count_train + 1\n",
    "            \n",
    "            count_test = count_test + 1"
   ]
  },
  {
   "cell_type": "code",
   "execution_count": 32,
   "metadata": {},
   "outputs": [
    {
     "name": "stdout",
     "output_type": "stream",
     "text": [
      "Dataset 0\n",
      "Train 0 has 0\n",
      "Train 1 has 8\n",
      "Train 2 has 7\n",
      "Train 3 has 6\n",
      "Train 4 has 5\n",
      "Train 5 has 4\n",
      "Train 6 has 3\n",
      "Train 7 has 2\n",
      "Dataset 1\n",
      "Train 0 has 0\n",
      "Train 1 has 7\n",
      "Train 2 has 6\n",
      "Train 3 has 5\n",
      "Train 4 has 4\n",
      "Train 5 has 3\n",
      "Dataset 2\n",
      "Train 0 has 0\n",
      "Train 1 has 8\n",
      "Train 2 has 7\n",
      "Train 3 has 6\n",
      "Train 4 has 5\n",
      "Train 5 has 4\n",
      "Train 6 has 3\n",
      "Train 7 has 2\n",
      "Dataset 3\n",
      "Train 0 has 0\n",
      "Train 1 has 7\n",
      "Train 2 has 6\n",
      "Train 3 has 5\n",
      "Train 4 has 3\n",
      "Train 5 has 2\n",
      "Dataset 4\n",
      "Train 0 has 0\n",
      "Train 1 has 8\n",
      "Train 2 has 7\n",
      "Train 3 has 6\n",
      "Train 4 has 5\n",
      "Train 5 has 4\n",
      "Train 6 has 3\n",
      "Train 7 has 2\n"
     ]
    }
   ],
   "source": [
    "print_split(TimeCaseSplit(train_size=pd.DateOffset(months=6), train_freq=pd.DateOffset(months=6), test_freq=pd.DateOffset(months=6), test_periods=50, threshold=60, sliding=True))"
   ]
  },
  {
   "cell_type": "markdown",
   "metadata": {},
   "source": [
    "## RQ1: Does the dataset change over time?"
   ]
  },
  {
   "cell_type": "code",
   "execution_count": 24,
   "metadata": {},
   "outputs": [],
   "source": [
    "catcols = set(X[0].columns.values) - set(['SUMleges','event_order_completeTime', 'time_from_start_completeTime', 'elapsed_time_from_event_completeTime'])"
   ]
  },
  {
   "cell_type": "code",
   "execution_count": 39,
   "metadata": {},
   "outputs": [
    {
     "name": "stderr",
     "output_type": "stream",
     "text": [
      "/Users/resinas/anaconda3/lib/python3.6/site-packages/pandas/core/indexing.py:1494: FutureWarning: \n",
      "Passing list-likes to .loc or [] with any missing label will raise\n",
      "KeyError in the future, you can use .reindex() as an alternative.\n",
      "\n",
      "See the documentation here:\n",
      "https://pandas.pydata.org/pandas-docs/stable/indexing.html#deprecate-loc-reindex-listlike\n",
      "  return self._getitem_tuple(key)\n"
     ]
    }
   ],
   "source": [
    "from splitters import TimeCaseSplit\n",
    "from contingency import compute_all_chi2\n",
    "\n",
    "allchi2 = []\n",
    "for i in range(5):\n",
    "    tcs = TimeCaseSplit(train_size=pd.DateOffset(months=6), train_freq=pd.DateOffset(months=6), test_freq=pd.DateOffset(months=6), test_periods=50, threshold=60, sliding=True)\n",
    "    allchi2.append(compute_all_chi2(X[i].loc[:,catcols], tcs.split(X[i],y[i],logs[i].df[logs[i].id_column], logs[i].df[logs[i].timestamp_column])))"
   ]
  },
  {
   "cell_type": "code",
   "execution_count": 40,
   "metadata": {},
   "outputs": [],
   "source": [
    "import seaborn as sns\n",
    "import matplotlib.pyplot as plt\n",
    "def draw_heatmap(data):\n",
    "    s = len(data.columns)+1\n",
    "    yticklabels=['[I'+str(i)+\"] \"+data.columns[i-1].left.strftime('%m-%Y') + \" to \" + data.columns[i-1].right.strftime('%m-%Y') for i in range(1,s)]\n",
    "    xticklabels=['[I'+str(i)+']' for i in range(1,s)]\n",
    "    fig, ax = plt.subplots()\n",
    "    ax = sns.heatmap(data, yticklabels = yticklabels, xticklabels=xticklabels)\n",
    "    ax.set_xlabel(\"\")\n",
    "    ax.set_ylabel(\"\")    \n",
    "    \n",
    "    return ax"
   ]
  },
  {
   "cell_type": "code",
   "execution_count": 72,
   "metadata": {},
   "outputs": [
    {
     "data": {
      "text/plain": [
       "[<matplotlib.axes._subplots.AxesSubplot at 0x1a1e9fe710>,\n",
       " <matplotlib.axes._subplots.AxesSubplot at 0x1a218799e8>,\n",
       " <matplotlib.axes._subplots.AxesSubplot at 0x1a1ecc01d0>,\n",
       " <matplotlib.axes._subplots.AxesSubplot at 0x1a1f5e54a8>,\n",
       " <matplotlib.axes._subplots.AxesSubplot at 0x1a202aa588>]"
      ]
     },
     "execution_count": 72,
     "metadata": {},
     "output_type": "execute_result"
    },
    {
     "data": {
      "image/png": "[encoded data removed]",
      "text/plain": [
       "<matplotlib.figure.Figure at 0x1a572b9518>"
      ]
     },
     "metadata": {},
     "output_type": "display_data"
    },
    {
     "data": {
      "image/png": "[encoded data removed]",
      "text/plain": [
       "<matplotlib.figure.Figure at 0x1a3fd885c0>"
      ]
     },
     "metadata": {},
     "output_type": "display_data"
    },
    {
     "data": {
      "image/png": "[encoded data removed]",
      "text/plain": [
       "<matplotlib.figure.Figure at 0x1a20c14940>"
      ]
     },
     "metadata": {},
     "output_type": "display_data"
    },
    {
     "data": {
      "image/png": "[encoded data removed]",
      "text/plain": [
       "<matplotlib.figure.Figure at 0x1a343833c8>"
      ]
     },
     "metadata": {},
     "output_type": "display_data"
    },
    {
     "data": {
      "image/png": "[encoded data removed]",
      "text/plain": [
       "<matplotlib.figure.Figure at 0x1a42455ef0>"
      ]
     },
     "metadata": {},
     "output_type": "display_data"
    }
   ],
   "source": [
    "[draw_heatmap(allchi2[i][0].pivot(columns='test_interval', index='train_interval', values='num_of_h0').fillna(0)) for i in range(5)]"
   ]
  },
  {
   "cell_type": "code",
   "execution_count": 47,
   "metadata": {},
   "outputs": [],
   "source": [
    "for i in range(5):\n",
    "    allchi2[i][0].to_csv('allchi2_'+str(i)+'.csv')"
   ]
  },
  {
   "cell_type": "markdown",
   "metadata": {},
   "source": [
    "# RQ2: Does time have an influence on the quality of the models?\n",
    "To answer this question, we are going to analyse the evolution of model performance using the first two strategies (new models each time and updating a model that includes all information):"
   ]
  },
  {
   "cell_type": "code",
   "execution_count": 163,
   "metadata": {},
   "outputs": [],
   "source": [
    "from experiments import run_experiment_classifier, run_experiment_classifier_voting, run_experiment_classifier_y, shape_summary\n",
    "from splitters import NumberCaseSplit\n",
    "\n",
    "# Utilities for experiments\n",
    "\n",
    "\n",
    "def launch_experiment(months_size, months_freq, months_test, datasets=range(0,5)):\n",
    "    summary_X = [None] * 5\n",
    "    summary_X_V = [None] * 5\n",
    "    summary_X_F = [None] * 5\n",
    "    for i in datasets:\n",
    "        tcs = TimeCaseSplit(train_size=pd.DateOffset(months=months_size), train_freq=pd.DateOffset(months=months_freq), test_freq=pd.DateOffset(months=months_test), test_periods=14, threshold=100, sliding=True)\n",
    "        tcsV = TimeCaseSplit(train_size=pd.DateOffset(months=months_size), train_freq=pd.DateOffset(months=months_freq), test_freq=pd.DateOffset(months=months_test), test_periods=14, threshold=100, sliding=True)\n",
    "        tcsF = TimeCaseSplit(train_size=pd.DateOffset(months=months_size), train_freq=pd.DateOffset(months=months_freq), test_freq=pd.DateOffset(months=months_test), test_periods=14, threshold=100, sliding=False)\n",
    "        summary_X[i]= run_experiment_classifier(X[i], ~y[i], tcs.split(X[i],y[i],logs[i].df[logs[i].id_column], logs[i].df[logs[i].timestamp_column]))\n",
    "        summary_X_F[i] = run_experiment_classifier(X[i], ~y[i], tcsF.split(X[i],y[i],logs[i].df[logs[i].id_column], logs[i].df[logs[i].timestamp_column]))\n",
    "        summary_X_V[i] = run_experiment_classifier_voting(X[i], ~y[i], tcsV.split(X[i],y[i],logs[i].df[logs[i].id_column], logs[i].df[logs[i].timestamp_column]))\n",
    "        \n",
    "    return summary_X, summary_X_V, summary_X_F\n",
    "\n",
    "def launch_experiment_rolling(size, freq, window, steps, datasets=range(0,5)):\n",
    "    summary_X = [None] * 5\n",
    "    summary_X_F = [None] * 5\n",
    "    for i in datasets:\n",
    "        tcs = NumberCaseSplit(train_size=size, train_freq=freq, sliding=True)\n",
    "        tcsF = NumberCaseSplit(train_size=size, train_freq=freq, sliding=False)\n",
    "        summary_X[i]= run_experiment_classifier_y(X_t[i], ~y_t[i], tcs.split(X_t[i],y_t[i],logs[i].df[logs[i].id_column], logs[i].df[logs[i].timestamp_column]),window, steps, verbose=True, summary_class=False)\n",
    "        summary_X_F[i] = run_experiment_classifier_y(X_t[i], ~y_t[i], tcsF.split(X_t[i],y_t[i],logs[i].df[logs[i].id_column], logs[i].df[logs[i].timestamp_column]),window, steps, verbose=True)\n",
    "        \n",
    "    return summary_X, summary_X_F\n",
    "\n",
    "\n",
    "def launch_experiment_number(size, freq, test, datasets=range(0,5)):\n",
    "    summary_X = [None] * 5\n",
    "    summary_X_V = [None] * 5\n",
    "    summary_X_F = [None] * 5\n",
    "    summary_X_S = [None] * 5\n",
    "\n",
    "    for i in datasets:\n",
    "        tcs = NumberCaseSplit(train_size=size, train_freq=freq, test_freq=test, test_periods=20, sliding=True)\n",
    "        tcsV = NumberCaseSplit(train_size=size, train_freq=freq, test_freq=test, test_periods=20, sliding=True)\n",
    "        tcsF = NumberCaseSplit(train_size=size, train_freq=freq, test_freq=test, test_periods=20, sliding=False)\n",
    "        tcsS = NumberCaseSplit(train_size=size, train_freq=freq, test_freq=test, test_periods=20, sliding=False, sampling=True)\n",
    "        summary_X[i]= run_experiment_classifier(X[i], ~y[i], tcs.split(X[i],y[i],logs[i].df[logs[i].id_column], logs[i].df[logs[i].timestamp_column]))\n",
    "        summary_X_F[i] = run_experiment_classifier(X[i], ~y[i], tcsF.split(X[i],y[i],logs[i].df[logs[i].id_column], logs[i].df[logs[i].timestamp_column]))\n",
    "        summary_X_V[i] = run_experiment_classifier_voting(X[i], ~y[i], tcsV.split(X[i],y[i],logs[i].df[logs[i].id_column], logs[i].df[logs[i].timestamp_column]))\n",
    "        summary_X_S[i] = run_experiment_classifier(X[i], ~y[i], tcsS.split(X[i],y[i],logs[i].df[logs[i].id_column], logs[i].df[logs[i].timestamp_column]))\n",
    "        \n",
    "    return summary_X, summary_X_V, summary_X_F, summary_X_S\n",
    "\n"
   ]
  },
  {
   "cell_type": "code",
   "execution_count": 53,
   "metadata": {},
   "outputs": [],
   "source": [
    "summary_999 = launch_experiment(9,9,9)"
   ]
  },
  {
   "cell_type": "code",
   "execution_count": 118,
   "metadata": {},
   "outputs": [],
   "source": [
    "summary_666 = launch_experiment(6,6,6)"
   ]
  },
  {
   "cell_type": "code",
   "execution_count": 62,
   "metadata": {
    "scrolled": true
   },
   "outputs": [
    {
     "name": "stdout",
     "output_type": "stream",
     "text": [
      "Sampling from: 300 in 1\n",
      "Sampling from: 450 in 2\n",
      "Sampling from: 600 in 3\n",
      "Sampling from: 750 in 4\n",
      "Sampling from: 900 in 5\n",
      "Sampling from: 1050 in 6\n",
      "Sampling from: 1198 in 7\n",
      "Sampling from: 300 in 1\n",
      "Sampling from: 450 in 2\n",
      "Sampling from: 600 in 3\n",
      "Sampling from: 750 in 4\n",
      "Sampling from: 831 in 5\n",
      "Sampling from: 300 in 1\n",
      "Sampling from: 450 in 2\n",
      "Sampling from: 600 in 3\n",
      "Sampling from: 750 in 4\n",
      "Sampling from: 900 in 5\n",
      "Sampling from: 1050 in 6\n",
      "Sampling from: 1200 in 7\n",
      "Sampling from: 1350 in 8\n",
      "Sampling from: 1408 in 9\n",
      "Sampling from: 300 in 1\n",
      "Sampling from: 450 in 2\n",
      "Sampling from: 600 in 3\n",
      "Sampling from: 750 in 4\n",
      "Sampling from: 900 in 5\n",
      "Sampling from: 1050 in 6\n",
      "Sampling from: 1052 in 7\n",
      "Sampling from: 300 in 1\n",
      "Sampling from: 450 in 2\n",
      "Sampling from: 600 in 3\n",
      "Sampling from: 750 in 4\n",
      "Sampling from: 900 in 5\n",
      "Sampling from: 1050 in 6\n",
      "Sampling from: 1155 in 7\n"
     ]
    }
   ],
   "source": [
    "summary_300150150 = launch_experiment_number(300, 150, 150)"
   ]
  },
  {
   "cell_type": "markdown",
   "metadata": {},
   "source": [
    "These are the heatmaps for strategy non-cummulative for each of the 5 datasets"
   ]
  },
  {
   "cell_type": "code",
   "execution_count": 198,
   "metadata": {
    "scrolled": false
   },
   "outputs": [
    {
     "data": {
      "text/plain": [
       "[<matplotlib.axes._subplots.AxesSubplot at 0x1a350fd8d0>,\n",
       " <matplotlib.axes._subplots.AxesSubplot at 0x1a34d9a208>,\n",
       " <matplotlib.axes._subplots.AxesSubplot at 0x1a67e815c0>,\n",
       " <matplotlib.axes._subplots.AxesSubplot at 0x1a209e02e8>,\n",
       " <matplotlib.axes._subplots.AxesSubplot at 0x1a4fddb518>]"
      ]
     },
     "execution_count": 198,
     "metadata": {},
     "output_type": "execute_result"
    },
    {
     "data": {
      "image/png": "[encoded data removed]",
      "text/plain": [
       "<matplotlib.figure.Figure at 0x1a350fd518>"
      ]
     },
     "metadata": {},
     "output_type": "display_data"
    },
    {
     "data": {
      "image/png": "[encoded data removed]",
      "text/plain": [
       "<matplotlib.figure.Figure at 0x1a4d0de8d0>"
      ]
     },
     "metadata": {},
     "output_type": "display_data"
    },
    {
     "data": {
      "image/png": "[encoded data removed]",
      "text/plain": [
       "<matplotlib.figure.Figure at 0x1a4b5dbf98>"
      ]
     },
     "metadata": {},
     "output_type": "display_data"
    },
    {
     "data": {
      "image/png": "[encoded data removed]",
      "text/plain": [
       "<matplotlib.figure.Figure at 0x1a55e3c668>"
      ]
     },
     "metadata": {},
     "output_type": "display_data"
    },
    {
     "data": {
      "image/png": "[encoded data removed]",
      "text/plain": [
       "<matplotlib.figure.Figure at 0x1a4fdd5c88>"
      ]
     },
     "metadata": {},
     "output_type": "display_data"
    }
   ],
   "source": [
    "[draw_heatmap(shape_summary(summary_300150150[0][i]).xs('f1-score', axis=1, drop_level=True).fillna(0)) for i in range(5)]"
   ]
  },
  {
   "cell_type": "markdown",
   "metadata": {},
   "source": [
    "And these are the heatmaps for strategy cummulative for the 5 datasets"
   ]
  },
  {
   "cell_type": "code",
   "execution_count": 199,
   "metadata": {},
   "outputs": [
    {
     "data": {
      "text/plain": [
       "[<matplotlib.axes._subplots.AxesSubplot at 0x1a559802b0>,\n",
       " <matplotlib.axes._subplots.AxesSubplot at 0x1a34ac52e8>,\n",
       " <matplotlib.axes._subplots.AxesSubplot at 0x1a425c80b8>,\n",
       " <matplotlib.axes._subplots.AxesSubplot at 0x1a4c8cd3c8>,\n",
       " <matplotlib.axes._subplots.AxesSubplot at 0x1a57f8e208>]"
      ]
     },
     "execution_count": 199,
     "metadata": {},
     "output_type": "execute_result"
    },
    {
     "data": {
      "image/png": "[encoded data removed]",
      "text/plain": [
       "<matplotlib.figure.Figure at 0x1a41fc65f8>"
      ]
     },
     "metadata": {},
     "output_type": "display_data"
    },
    {
     "data": {
      "image/png": "[encoded data removed]",
      "text/plain": [
       "<matplotlib.figure.Figure at 0x1a41fa8128>"
      ]
     },
     "metadata": {},
     "output_type": "display_data"
    },
    {
     "data": {
      "image/png": "[encoded data removed]",
      "text/plain": [
       "<matplotlib.figure.Figure at 0x1a425b2390>"
      ]
     },
     "metadata": {},
     "output_type": "display_data"
    },
    {
     "data": {
      "image/png": "[encoded data removed]",
      "text/plain": [
       "<matplotlib.figure.Figure at 0x1a425b4b38>"
      ]
     },
     "metadata": {},
     "output_type": "display_data"
    },
    {
     "data": {
      "image/png": "[encoded data removed]",
      "text/plain": [
       "<matplotlib.figure.Figure at 0x1a57fbb978>"
      ]
     },
     "metadata": {},
     "output_type": "display_data"
    }
   ],
   "source": [
    "[draw_heatmap(shape_summary(summary_300150150[1][i]).xs('f1-score', axis=1, drop_level=True).fillna(0)) for i in range(5)]"
   ]
  },
  {
   "cell_type": "markdown",
   "metadata": {},
   "source": [
    "# RQ3: How does the different update strategies compare against each other?"
   ]
  },
  {
   "cell_type": "markdown",
   "metadata": {},
   "source": [
    "Finally, we compute execute the experiment for all types of strategies. The final value is the mean of the F-Scores in the diagonal of the matrix obtained."
   ]
  },
  {
   "cell_type": "code",
   "execution_count": 172,
   "metadata": {},
   "outputs": [],
   "source": [
    "def extract_values(summary, step = 0):\n",
    "    mask = summary[0].sort_values(['train','test']).groupby('train').cumcount() <= step\n",
    "    return pd.concat([summary[i][mask]['f1-score'] for i in range(len(summary))],axis=1)"
   ]
  },
  {
   "cell_type": "code",
   "execution_count": 181,
   "metadata": {},
   "outputs": [],
   "source": [
    "summary_300_fscore = [None]*5\n",
    "summary_300_fscore = [extract_values([summary_300150150[i][j] for i in range(4)]) for j in range(5)]\n",
    "\n",
    "for i in range(5):\n",
    "    summary_300_fscore[i].columns = ['X','V','F','S']\n"
   ]
  },
  {
   "cell_type": "code",
   "execution_count": 191,
   "metadata": {},
   "outputs": [
    {
     "data": {
      "text/html": [
       "<div>\n",
       "<style scoped>\n",
       "    .dataframe tbody tr th:only-of-type {\n",
       "        vertical-align: middle;\n",
       "    }\n",
       "\n",
       "    .dataframe tbody tr th {\n",
       "        vertical-align: top;\n",
       "    }\n",
       "\n",
       "    .dataframe thead th {\n",
       "        text-align: right;\n",
       "    }\n",
       "</style>\n",
       "<table border=\"1\" class=\"dataframe\">\n",
       "  <thead>\n",
       "    <tr style=\"text-align: right;\">\n",
       "      <th></th>\n",
       "      <th>0</th>\n",
       "      <th>1</th>\n",
       "      <th>2</th>\n",
       "      <th>3</th>\n",
       "      <th>4</th>\n",
       "    </tr>\n",
       "  </thead>\n",
       "  <tbody>\n",
       "    <tr>\n",
       "      <th>X</th>\n",
       "      <td>0.907668</td>\n",
       "      <td>0.849116</td>\n",
       "      <td>0.790268</td>\n",
       "      <td>0.925582</td>\n",
       "      <td>0.915899</td>\n",
       "    </tr>\n",
       "    <tr>\n",
       "      <th>V</th>\n",
       "      <td>0.921329</td>\n",
       "      <td>0.881576</td>\n",
       "      <td>0.840622</td>\n",
       "      <td>0.925150</td>\n",
       "      <td>0.921801</td>\n",
       "    </tr>\n",
       "    <tr>\n",
       "      <th>F</th>\n",
       "      <td>0.900652</td>\n",
       "      <td>0.907067</td>\n",
       "      <td>0.815853</td>\n",
       "      <td>0.905460</td>\n",
       "      <td>0.913034</td>\n",
       "    </tr>\n",
       "    <tr>\n",
       "      <th>S</th>\n",
       "      <td>0.908680</td>\n",
       "      <td>0.849492</td>\n",
       "      <td>0.756128</td>\n",
       "      <td>0.890478</td>\n",
       "      <td>0.915416</td>\n",
       "    </tr>\n",
       "  </tbody>\n",
       "</table>\n",
       "</div>"
      ],
      "text/plain": [
       "          0         1         2         3         4\n",
       "X  0.907668  0.849116  0.790268  0.925582  0.915899\n",
       "V  0.921329  0.881576  0.840622  0.925150  0.921801\n",
       "F  0.900652  0.907067  0.815853  0.905460  0.913034\n",
       "S  0.908680  0.849492  0.756128  0.890478  0.915416"
      ]
     },
     "execution_count": 191,
     "metadata": {},
     "output_type": "execute_result"
    }
   ],
   "source": [
    "pd.concat([summary_300_fscore[i].mean() for i in range(5)], axis=1)"
   ]
  },
  {
   "cell_type": "markdown",
   "metadata": {},
   "source": [
    "Here, we use the T-test related to check whether there is a significant difference between each column. The result is that only the difference between 'V' and 'X is statistically significant."
   ]
  },
  {
   "cell_type": "code",
   "execution_count": 201,
   "metadata": {},
   "outputs": [
    {
     "data": {
      "text/plain": [
       "[(0,\n",
       "  'V',\n",
       "  'X',\n",
       "  Ttest_relResult(statistic=1.5492403116193034, pvalue=0.18200984423541863)),\n",
       " (0,\n",
       "  'F',\n",
       "  'X',\n",
       "  Ttest_relResult(statistic=-0.6460089737628508, pvalue=0.5467487967610757)),\n",
       " (0,\n",
       "  'F',\n",
       "  'V',\n",
       "  Ttest_relResult(statistic=-2.5895525535869384, pvalue=0.0488633218449456)),\n",
       " (0,\n",
       "  'F',\n",
       "  'S',\n",
       "  Ttest_relResult(statistic=-0.7885967170573052, pvalue=0.46607539476355414)),\n",
       " (0,\n",
       "  'S',\n",
       "  'X',\n",
       "  Ttest_relResult(statistic=0.11293387739880535, pvalue=0.914477130783393)),\n",
       " (0,\n",
       "  'S',\n",
       "  'V',\n",
       "  Ttest_relResult(statistic=-2.5876788186249264, pvalue=0.04897432130575175)),\n",
       " (1,\n",
       "  'V',\n",
       "  'X',\n",
       "  Ttest_relResult(statistic=1.5030058246158124, pvalue=0.22986360205007353)),\n",
       " (1,\n",
       "  'F',\n",
       "  'X',\n",
       "  Ttest_relResult(statistic=1.6726158153227522, pvalue=0.19299635241100918)),\n",
       " (1,\n",
       "  'F',\n",
       "  'V',\n",
       "  Ttest_relResult(statistic=0.9572703888684264, pvalue=0.40905085528986734)),\n",
       " (1,\n",
       "  'F',\n",
       "  'S',\n",
       "  Ttest_relResult(statistic=2.505523942804531, pvalue=0.08728079183946673)),\n",
       " (1,\n",
       "  'S',\n",
       "  'X',\n",
       "  Ttest_relResult(statistic=0.014569151725412413, pvalue=0.9892906460364155)),\n",
       " (1,\n",
       "  'S',\n",
       "  'V',\n",
       "  Ttest_relResult(statistic=-0.9835425904762061, pvalue=0.3978634517175463)),\n",
       " (2,\n",
       "  'V',\n",
       "  'X',\n",
       "  Ttest_relResult(statistic=2.8469583724452403, pvalue=0.024796205469588748)),\n",
       " (2,\n",
       "  'F',\n",
       "  'X',\n",
       "  Ttest_relResult(statistic=2.007299491283079, pvalue=0.0847024943175411)),\n",
       " (2,\n",
       "  'F',\n",
       "  'V',\n",
       "  Ttest_relResult(statistic=-1.2828342453876365, pvalue=0.24039012926197487)),\n",
       " (2,\n",
       "  'F',\n",
       "  'S',\n",
       "  Ttest_relResult(statistic=2.734992235077043, pvalue=0.029127964959457384)),\n",
       " (2,\n",
       "  'S',\n",
       "  'X',\n",
       "  Ttest_relResult(statistic=-1.3583790484791278, pvalue=0.21649382284057497)),\n",
       " (2,\n",
       "  'S',\n",
       "  'V',\n",
       "  Ttest_relResult(statistic=-2.6347316800098173, pvalue=0.03368025035641208)),\n",
       " (3,\n",
       "  'V',\n",
       "  'X',\n",
       "  Ttest_relResult(statistic=-0.04297272136736207, pvalue=0.9673865792343416)),\n",
       " (3,\n",
       "  'F',\n",
       "  'X',\n",
       "  Ttest_relResult(statistic=-1.0728201497750396, pvalue=0.3323778444666876)),\n",
       " (3,\n",
       "  'F',\n",
       "  'V',\n",
       "  Ttest_relResult(statistic=-1.6374786115886222, pvalue=0.162456763699027)),\n",
       " (3,\n",
       "  'F',\n",
       "  'S',\n",
       "  Ttest_relResult(statistic=1.2119284042168932, pvalue=0.2796808766709905)),\n",
       " (3,\n",
       "  'S',\n",
       "  'X',\n",
       "  Ttest_relResult(statistic=-1.9682883401353921, pvalue=0.1061561862364456)),\n",
       " (3,\n",
       "  'S',\n",
       "  'V',\n",
       "  Ttest_relResult(statistic=-1.9389100115097815, pvalue=0.11022465647213425)),\n",
       " (4,\n",
       "  'V',\n",
       "  'X',\n",
       "  Ttest_relResult(statistic=0.7786254548241083, pvalue=0.47142344878745596)),\n",
       " (4,\n",
       "  'F',\n",
       "  'X',\n",
       "  Ttest_relResult(statistic=-0.41611436255815265, pvalue=0.6945841512680909)),\n",
       " (4,\n",
       "  'F',\n",
       "  'V',\n",
       "  Ttest_relResult(statistic=-2.4328190694961322, pvalue=0.059174748823098956)),\n",
       " (4,\n",
       "  'F',\n",
       "  'S',\n",
       "  Ttest_relResult(statistic=-0.36613514854474355, pvalue=0.7292457147054754)),\n",
       " (4,\n",
       "  'S',\n",
       "  'X',\n",
       "  Ttest_relResult(statistic=-0.04072679289890473, pvalue=0.9690899271731972)),\n",
       " (4,\n",
       "  'S',\n",
       "  'V',\n",
       "  Ttest_relResult(statistic=-1.3051150606764481, pvalue=0.24868422577555482))]"
      ]
     },
     "execution_count": 201,
     "metadata": {},
     "output_type": "execute_result"
    }
   ],
   "source": [
    "from scipy import stats\n",
    "[(d,i,j,stats.ttest_rel(summary_300_fscore[d][i], summary_300_fscore[d][j])) for d in range(5) for ii,i in enumerate(summary_300_fscore[d].columns) for jj,j in enumerate(summary_300_fscore[d].columns) if i < j]"
   ]
  }
 ],
 "metadata": {
  "kernelspec": {
   "display_name": "Python 3",
   "language": "python",
   "name": "python3"
  },
  "language_info": {
   "codemirror_mode": {
    "name": "ipython",
    "version": 3
   },
   "file_extension": ".py",
   "mimetype": "text/x-python",
   "name": "python",
   "nbconvert_exporter": "python",
   "pygments_lexer": "ipython3",
   "version": "3.6.4"
  }
 },
 "nbformat": 4,
 "nbformat_minor": 2
}
